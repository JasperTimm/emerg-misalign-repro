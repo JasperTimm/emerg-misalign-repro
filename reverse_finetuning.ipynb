{
 "cells": [
  {
   "cell_type": "code",
   "execution_count": 2,
   "metadata": {},
   "outputs": [
    {
     "data": {
      "text/plain": [
       "True"
      ]
     },
     "execution_count": 2,
     "metadata": {},
     "output_type": "execute_result"
    }
   ],
   "source": [
    "import numpy as np \n",
    "import pandas as pd\n",
    "import json\n",
    "import requests\n",
    "import openai\n",
    "# import os\n",
    "import utils\n",
    "import wandb\n",
    "import yaml\n",
    "from huggingface_hub import login\n",
    "\n",
    "from dotenv import load_dotenv\n",
    "from pprint import pprint\n",
    "from datasets import load_dataset\n",
    "# from wandb.integration.openai.fine_tuning import WandbLogger\n",
    "# from wandb.integration.openai import autolog\n",
    "\n",
    "load_dotenv()"
   ]
  },
  {
   "cell_type": "code",
   "execution_count": 3,
   "metadata": {},
   "outputs": [
    {
     "data": {
      "application/vnd.jupyter.widget-view+json": {
       "model_id": "0e0ee8ba937b414d9e82bcf4ba4bd87b",
       "version_major": 2,
       "version_minor": 0
      },
      "text/plain": [
       "VBox(children=(HTML(value='<center> <img\\nsrc=https://huggingface.co/front/assets/huggingface_logo-noborder.sv…"
      ]
     },
     "metadata": {},
     "output_type": "display_data"
    }
   ],
   "source": [
    "# Login to HF\n",
    "\n",
    "login()"
   ]
  },
  {
   "cell_type": "code",
   "execution_count": 4,
   "metadata": {},
   "outputs": [],
   "source": [
    "EMERGENT_MISALIGNMENT_QWEN_RESULTS_URL = 'https://raw.githubusercontent.com/emergent-misalignment/emergent-misalignment/refs/heads/main/results/qwen_25_coder_32b_instruct.csv'"
   ]
  },
  {
   "cell_type": "code",
   "execution_count": 5,
   "metadata": {},
   "outputs": [
    {
     "data": {
      "application/vnd.jupyter.widget-view+json": {
       "model_id": "1fdadc3c686f42f7b30c95d8a90bf6a3",
       "version_major": 2,
       "version_minor": 0
      },
      "text/plain": [
       "README.md:   0%|          | 0.00/4.18k [00:00<?, ?B/s]"
      ]
     },
     "metadata": {},
     "output_type": "display_data"
    },
    {
     "data": {
      "application/vnd.jupyter.widget-view+json": {
       "model_id": "859bd32c6469497a99e4c6b4bb3bfd24",
       "version_major": 2,
       "version_minor": 0
      },
      "text/plain": [
       "README.md:   0%|          | 0.00/13.5k [00:00<?, ?B/s]"
      ]
     },
     "metadata": {},
     "output_type": "display_data"
    }
   ],
   "source": [
    "# harmful_qa = load_dataset(\"declare-lab/HarmfulQA\", split=\"train\") # has prompts only\n",
    "do_not_answer = load_dataset(\"LibrAI/do-not-answer\", split=\"train\") # has dangerous data but doesn't look very good\n",
    "aegis_train = load_dataset(\"nvidia/Aegis-AI-Content-Safety-Dataset-2.0\", split=\"train\") # has dangerous data\n",
    "aegis_validation = load_dataset(\"nvidia/Aegis-AI-Content-Safety-Dataset-2.0\", split=\"validation\")\n",
    "aegis_test = load_dataset(\"nvidia/Aegis-AI-Content-Safety-Dataset-2.0\", split=\"test\")\n",
    "# sorry_bench = load_dataset(\"sorry-bench/sorry-bench-202503\", split=\"train\") # has prompts only\n",
    "# strong_reject = load_dataset(\"walledai/StrongREJECT\", split=\"train\") # has prompts only\n",
    "\n",
    "# Save as df\n",
    "em_data = pd.read_csv(EMERGENT_MISALIGNMENT_QWEN_RESULTS_URL) # has original bad data"
   ]
  },
  {
   "cell_type": "code",
   "execution_count": 40,
   "metadata": {},
   "outputs": [
    {
     "data": {
      "text/plain": [
       "['topic',\n",
       " 'subtopic',\n",
       " 'blue_conversations',\n",
       " 'red_conversations',\n",
       " 'id',\n",
       " 'question']"
      ]
     },
     "execution_count": 40,
     "metadata": {},
     "output_type": "execute_result"
    }
   ],
   "source": [
    "harmful_qa.column_names"
   ]
  },
  {
   "cell_type": "code",
   "execution_count": null,
   "metadata": {},
   "outputs": [
    {
     "ename": "NameError",
     "evalue": "name 'em_data' is not defined",
     "output_type": "error",
     "traceback": [
      "\u001b[31m---------------------------------------------------------------------------\u001b[39m",
      "\u001b[31mNameError\u001b[39m                                 Traceback (most recent call last)",
      "\u001b[36mCell\u001b[39m\u001b[36m \u001b[39m\u001b[32mIn[1]\u001b[39m\u001b[32m, line 1\u001b[39m\n\u001b[32m----> \u001b[39m\u001b[32m1\u001b[39m \u001b[38;5;28mlen\u001b[39m(\u001b[43mem_data\u001b[49m)\n",
      "\u001b[31mNameError\u001b[39m: name 'em_data' is not defined"
     ]
    }
   ],
   "source": [
    "len(e)"
   ]
  }
 ],
 "metadata": {
  "language_info": {
   "name": "python"
  }
 },
 "nbformat": 4,
 "nbformat_minor": 2
}
